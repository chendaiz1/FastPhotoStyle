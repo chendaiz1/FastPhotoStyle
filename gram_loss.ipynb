{
 "cells": [
  {
   "cell_type": "code",
   "execution_count": 1,
   "id": "b3c812a7",
   "metadata": {
    "colab": {
     "base_uri": "https://localhost:8080/"
    },
    "id": "b3c812a7",
    "outputId": "c706b77b-802c-480f-c8dc-fa6058a4e6f8"
   },
   "outputs": [
    {
     "name": "stdout",
     "output_type": "stream",
     "text": [
      "Using device: cpu\n"
     ]
    }
   ],
   "source": [
    "import torch\n",
    "import torch.nn as nn\n",
    "from torchvision import models, transforms\n",
    "from PIL import Image\n",
    "\n",
    "device = torch.device(\"cuda\" if torch.cuda.is_available() else \"cpu\")\n",
    "print(f\"Using device: {device}\")\n",
    "def gram_matrix(features):\n",
    "    (b, c, h, w) = features.size()\n",
    "    features = features.view(b, c, h * w)\n",
    "    gram = torch.bmm(features, features.transpose(1, 2))\n",
    "    gram = gram / (c * h * w)\n",
    "    return gram\n",
    "# Load pre-trained VGG19\n",
    "vgg = models.vgg19(weights='DEFAULT').features.to(device).eval()"
   ]
  },
  {
   "cell_type": "code",
   "execution_count": 2,
   "id": "D_e7p4uGYSBt",
   "metadata": {
    "id": "D_e7p4uGYSBt"
   },
   "outputs": [],
   "source": [
    "class VGGFeatures(nn.Module):\n",
    "    def __init__(self, layers):\n",
    "        super(VGGFeatures, self).__init__()\n",
    "        self.vgg = models.vgg19(weights='DEFAULT').features.to(device).eval()\n",
    "        self.layers = layers\n",
    "\n",
    "    def forward(self, x):\n",
    "        features = []\n",
    "        for idx, layer in enumerate(self.vgg):\n",
    "            x = layer(x)\n",
    "            if str(idx) in self.layers:\n",
    "                features.append(x)\n",
    "        return features\n",
    "\n",
    "# Example layers from VGG19 (e.g., conv1_1=0, relu1_1=1, conv1_2=2, relu1_2=3, etc.)\n",
    "layers = {'0': 'conv1_1', '5': 'conv2_1', '10': 'conv3_1', '19': 'conv4_1', '28': 'conv5_1'}\n",
    "layer_ids = ['0', '5', '10', '19', '28']\n",
    "\n",
    "feature_extractor = VGGFeatures(layer_ids)"
   ]
  },
  {
   "cell_type": "code",
   "execution_count": 3,
   "id": "1a2e0cbf",
   "metadata": {
    "id": "1a2e0cbf"
   },
   "outputs": [],
   "source": [
    "# Load images\n",
    "# Define transformation for input images\n",
    "transform = transforms.Compose([\n",
    "    transforms.Resize((224, 224)),\n",
    "    transforms.ToTensor(),\n",
    "    transforms.Normalize(mean=[0.485, 0.456, 0.406],\n",
    "                         std=[0.229, 0.224, 0.225]),\n",
    "])\n",
    "style_image = Image.open('pictures/style/tar58.png')\n",
    "stylized_image = Image.open('pictures/results/result58.png')\n",
    "\n",
    "style = transform(style_image).unsqueeze(0).to(device)\n",
    "stylized = transform(stylized_image).unsqueeze(0).to(device)"
   ]
  },
  {
   "cell_type": "code",
   "execution_count": 4,
   "id": "zMM2vt7AXdh5",
   "metadata": {
    "id": "zMM2vt7AXdh5"
   },
   "outputs": [],
   "source": [
    "style_features = feature_extractor(style)\n",
    "stylized_features = feature_extractor(stylized)\n",
    "\n",
    "original_grams = [gram_matrix(feat) for feat in style_features]\n",
    "stylized_grams = [gram_matrix(feat) for feat in stylized_features]\n"
   ]
  },
  {
   "cell_type": "code",
   "execution_count": 5,
   "id": "S8fMNap-XikB",
   "metadata": {
    "colab": {
     "base_uri": "https://localhost:8080/"
    },
    "id": "S8fMNap-XikB",
    "outputId": "249945d0-36d3-4f6b-bb94-25b1dac505bd"
   },
   "outputs": [
    {
     "name": "stdout",
     "output_type": "stream",
     "text": [
      "Gram Loss: 0.000184\n"
     ]
    }
   ],
   "source": [
    "mse_loss = nn.MSELoss()\n",
    "\n",
    "gram_loss = 0\n",
    "for g_orig, g_stylized in zip(original_grams, stylized_grams):\n",
    "    gram_loss += mse_loss(g_stylized, g_orig)\n",
    "\n",
    "print(f\"Gram Loss: {gram_loss.item():.6f}\")\n"
   ]
  }
 ],
 "metadata": {
  "accelerator": "GPU",
  "colab": {
   "gpuType": "T4",
   "provenance": []
  },
  "kernelspec": {
   "display_name": "cv",
   "language": "python",
   "name": "python3"
  },
  "language_info": {
   "codemirror_mode": {
    "name": "ipython",
    "version": 3
   },
   "file_extension": ".py",
   "mimetype": "text/x-python",
   "name": "python",
   "nbconvert_exporter": "python",
   "pygments_lexer": "ipython3",
   "version": "3.11.11"
  }
 },
 "nbformat": 4,
 "nbformat_minor": 5
}
